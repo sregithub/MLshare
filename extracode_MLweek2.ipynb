{
 "cells": [
  {
   "cell_type": "code",
   "execution_count": 2,
   "metadata": {
    "executionInfo": {
     "elapsed": 1462,
     "status": "ok",
     "timestamp": 1625990612187,
     "user": {
      "displayName": "sreevasan ps",
      "photoUrl": "",
      "userId": "01521644933237623332"
     },
     "user_tz": -330
    },
    "id": "BStuFtpvD99X"
   },
   "outputs": [],
   "source": [
    "import numpy as np   \n",
    "import pandas as pd\n",
    "import os\n",
    "\n",
    "import seaborn as sns\n",
    "import matplotlib.pyplot as plt   \n",
    "import matplotlib.style\n",
    "plt.style.use('classic')\n",
    "\n",
    "import warnings\n",
    "warnings.filterwarnings(\"ignore\")"
   ]
  },
  {
   "cell_type": "code",
   "execution_count": 3,
   "metadata": {
    "executionInfo": {
     "elapsed": 1467,
     "status": "ok",
     "timestamp": 1625990613990,
     "user": {
      "displayName": "sreevasan ps",
      "photoUrl": "",
      "userId": "01521644933237623332"
     },
     "user_tz": -330
    },
    "id": "bVFv2Gk1E2m8"
   },
   "outputs": [],
   "source": [
    "#!pip install -q xgboost==0.4a30"
   ]
  },
  {
   "cell_type": "code",
   "execution_count": 4,
   "metadata": {
    "executionInfo": {
     "elapsed": 56,
     "status": "ok",
     "timestamp": 1625990613991,
     "user": {
      "displayName": "sreevasan ps",
      "photoUrl": "",
      "userId": "01521644933237623332"
     },
     "user_tz": -330
    },
    "id": "OtJghseRF_C3"
   },
   "outputs": [],
   "source": [
    "import xgboost as xgb"
   ]
  },
  {
   "cell_type": "code",
   "execution_count": 5,
   "metadata": {
    "colab": {
     "base_uri": "https://localhost:8080/"
    },
    "executionInfo": {
     "elapsed": 61,
     "status": "ok",
     "timestamp": 1625990613997,
     "user": {
      "displayName": "sreevasan ps",
      "photoUrl": "",
      "userId": "01521644933237623332"
     },
     "user_tz": -330
    },
    "id": "mYqMoZSwGdQo",
    "outputId": "54c77d34-38fe-4016-ccc7-0ba5981f8047"
   },
   "outputs": [
    {
     "name": "stdout",
     "output_type": "stream",
     "text": [
      "/content/drive/My Drive\n"
     ]
    }
   ],
   "source": [
    "import os\n",
    "#os.getcwd()\n",
    "#%cd /content/drive/My\\ Drive/\n",
    "df=pd.read_csv(\"cleandata.csv\")\n",
    "# Pls use the clean/processed dataset given in the solution ( after all process steps ;just before train/test split) \n",
    "#used in the case study for ML- week2"
   ]
  },
  {
   "cell_type": "code",
   "execution_count": 6,
   "metadata": {
    "executionInfo": {
     "elapsed": 61,
     "status": "ok",
     "timestamp": 1625990614000,
     "user": {
      "displayName": "sreevasan ps",
      "photoUrl": "",
      "userId": "01521644933237623332"
     },
     "user_tz": -330
    },
    "id": "-3YQFYeOGo3h"
   },
   "outputs": [],
   "source": [
    "df.shape\n",
    "df.columns\n",
    "df.drop('Unnamed: 0', axis=1, inplace=True)"
   ]
  },
  {
   "cell_type": "code",
   "execution_count": 7,
   "metadata": {
    "colab": {
     "base_uri": "https://localhost:8080/",
     "height": 436
    },
    "executionInfo": {
     "elapsed": 61,
     "status": "ok",
     "timestamp": 1625990614001,
     "user": {
      "displayName": "sreevasan ps",
      "photoUrl": "",
      "userId": "01521644933237623332"
     },
     "user_tz": -330
    },
    "id": "yUcQbObDIBHd",
    "outputId": "6377cbbe-a620-45f2-ad53-45ab2b4dce4d"
   },
   "outputs": [
    {
     "data": {
      "text/html": [
       "<div>\n",
       "<style scoped>\n",
       "    .dataframe tbody tr th:only-of-type {\n",
       "        vertical-align: middle;\n",
       "    }\n",
       "\n",
       "    .dataframe tbody tr th {\n",
       "        vertical-align: top;\n",
       "    }\n",
       "\n",
       "    .dataframe thead th {\n",
       "        text-align: right;\n",
       "    }\n",
       "</style>\n",
       "<table border=\"1\" class=\"dataframe\">\n",
       "  <thead>\n",
       "    <tr style=\"text-align: right;\">\n",
       "      <th></th>\n",
       "      <th>age</th>\n",
       "      <th>cigsPerDay</th>\n",
       "      <th>tot_cholesterol</th>\n",
       "      <th>Diastolic_BP</th>\n",
       "      <th>BMI</th>\n",
       "      <th>heartRate</th>\n",
       "      <th>glucose</th>\n",
       "      <th>Heart-Att</th>\n",
       "      <th>Gender_Male</th>\n",
       "      <th>education_2.0</th>\n",
       "      <th>education_3.0</th>\n",
       "      <th>education_4.0</th>\n",
       "      <th>currentSmoker_1.0</th>\n",
       "      <th>BPMeds_1.0</th>\n",
       "      <th>prevalentStroke_1.0</th>\n",
       "      <th>prevalentHyp_1.0</th>\n",
       "      <th>diabetes_1.0</th>\n",
       "    </tr>\n",
       "  </thead>\n",
       "  <tbody>\n",
       "    <tr>\n",
       "      <th>0</th>\n",
       "      <td>0.184211</td>\n",
       "      <td>0.00</td>\n",
       "      <td>0.325893</td>\n",
       "      <td>0.289530</td>\n",
       "      <td>0.571862</td>\n",
       "      <td>0.575000</td>\n",
       "      <td>0.471154</td>\n",
       "      <td>0</td>\n",
       "      <td>1</td>\n",
       "      <td>0</td>\n",
       "      <td>0</td>\n",
       "      <td>1</td>\n",
       "      <td>0</td>\n",
       "      <td>0</td>\n",
       "      <td>0</td>\n",
       "      <td>0</td>\n",
       "      <td>0</td>\n",
       "    </tr>\n",
       "    <tr>\n",
       "      <th>1</th>\n",
       "      <td>0.368421</td>\n",
       "      <td>0.00</td>\n",
       "      <td>0.571429</td>\n",
       "      <td>0.477564</td>\n",
       "      <td>0.660931</td>\n",
       "      <td>0.825000</td>\n",
       "      <td>0.451923</td>\n",
       "      <td>0</td>\n",
       "      <td>0</td>\n",
       "      <td>1</td>\n",
       "      <td>0</td>\n",
       "      <td>0</td>\n",
       "      <td>0</td>\n",
       "      <td>0</td>\n",
       "      <td>0</td>\n",
       "      <td>0</td>\n",
       "      <td>0</td>\n",
       "    </tr>\n",
       "    <tr>\n",
       "      <th>2</th>\n",
       "      <td>0.421053</td>\n",
       "      <td>0.40</td>\n",
       "      <td>0.549107</td>\n",
       "      <td>0.460470</td>\n",
       "      <td>0.489372</td>\n",
       "      <td>0.491667</td>\n",
       "      <td>0.336538</td>\n",
       "      <td>0</td>\n",
       "      <td>1</td>\n",
       "      <td>0</td>\n",
       "      <td>0</td>\n",
       "      <td>0</td>\n",
       "      <td>1</td>\n",
       "      <td>0</td>\n",
       "      <td>0</td>\n",
       "      <td>0</td>\n",
       "      <td>0</td>\n",
       "    </tr>\n",
       "    <tr>\n",
       "      <th>3</th>\n",
       "      <td>0.763158</td>\n",
       "      <td>0.60</td>\n",
       "      <td>0.459821</td>\n",
       "      <td>0.716880</td>\n",
       "      <td>0.653340</td>\n",
       "      <td>0.325000</td>\n",
       "      <td>0.971154</td>\n",
       "      <td>1</td>\n",
       "      <td>0</td>\n",
       "      <td>0</td>\n",
       "      <td>1</td>\n",
       "      <td>0</td>\n",
       "      <td>1</td>\n",
       "      <td>0</td>\n",
       "      <td>0</td>\n",
       "      <td>1</td>\n",
       "      <td>0</td>\n",
       "    </tr>\n",
       "    <tr>\n",
       "      <th>4</th>\n",
       "      <td>0.368421</td>\n",
       "      <td>0.46</td>\n",
       "      <td>0.727679</td>\n",
       "      <td>0.528846</td>\n",
       "      <td>0.376012</td>\n",
       "      <td>0.658333</td>\n",
       "      <td>0.625000</td>\n",
       "      <td>0</td>\n",
       "      <td>0</td>\n",
       "      <td>0</td>\n",
       "      <td>1</td>\n",
       "      <td>0</td>\n",
       "      <td>1</td>\n",
       "      <td>0</td>\n",
       "      <td>0</td>\n",
       "      <td>0</td>\n",
       "      <td>0</td>\n",
       "    </tr>\n",
       "    <tr>\n",
       "      <th>...</th>\n",
       "      <td>...</td>\n",
       "      <td>...</td>\n",
       "      <td>...</td>\n",
       "      <td>...</td>\n",
       "      <td>...</td>\n",
       "      <td>...</td>\n",
       "      <td>...</td>\n",
       "      <td>...</td>\n",
       "      <td>...</td>\n",
       "      <td>...</td>\n",
       "      <td>...</td>\n",
       "      <td>...</td>\n",
       "      <td>...</td>\n",
       "      <td>...</td>\n",
       "      <td>...</td>\n",
       "      <td>...</td>\n",
       "      <td>...</td>\n",
       "    </tr>\n",
       "    <tr>\n",
       "      <th>4235</th>\n",
       "      <td>0.421053</td>\n",
       "      <td>0.40</td>\n",
       "      <td>0.562500</td>\n",
       "      <td>0.323718</td>\n",
       "      <td>0.320344</td>\n",
       "      <td>0.641667</td>\n",
       "      <td>0.644231</td>\n",
       "      <td>0</td>\n",
       "      <td>0</td>\n",
       "      <td>1</td>\n",
       "      <td>0</td>\n",
       "      <td>0</td>\n",
       "      <td>1</td>\n",
       "      <td>0</td>\n",
       "      <td>0</td>\n",
       "      <td>0</td>\n",
       "      <td>0</td>\n",
       "    </tr>\n",
       "    <tr>\n",
       "      <th>4236</th>\n",
       "      <td>0.315789</td>\n",
       "      <td>0.30</td>\n",
       "      <td>0.392857</td>\n",
       "      <td>0.580128</td>\n",
       "      <td>0.176619</td>\n",
       "      <td>0.675000</td>\n",
       "      <td>0.490385</td>\n",
       "      <td>0</td>\n",
       "      <td>0</td>\n",
       "      <td>0</td>\n",
       "      <td>0</td>\n",
       "      <td>0</td>\n",
       "      <td>1</td>\n",
       "      <td>0</td>\n",
       "      <td>0</td>\n",
       "      <td>0</td>\n",
       "      <td>0</td>\n",
       "    </tr>\n",
       "    <tr>\n",
       "      <th>4237</th>\n",
       "      <td>0.526316</td>\n",
       "      <td>0.00</td>\n",
       "      <td>0.656250</td>\n",
       "      <td>0.511752</td>\n",
       "      <td>0.293522</td>\n",
       "      <td>0.575000</td>\n",
       "      <td>1.000000</td>\n",
       "      <td>0</td>\n",
       "      <td>0</td>\n",
       "      <td>1</td>\n",
       "      <td>0</td>\n",
       "      <td>0</td>\n",
       "      <td>0</td>\n",
       "      <td>0</td>\n",
       "      <td>0</td>\n",
       "      <td>0</td>\n",
       "      <td>0</td>\n",
       "    </tr>\n",
       "    <tr>\n",
       "      <th>4238</th>\n",
       "      <td>0.210526</td>\n",
       "      <td>0.00</td>\n",
       "      <td>0.281250</td>\n",
       "      <td>0.768162</td>\n",
       "      <td>0.502530</td>\n",
       "      <td>0.358333</td>\n",
       "      <td>0.375000</td>\n",
       "      <td>0</td>\n",
       "      <td>1</td>\n",
       "      <td>0</td>\n",
       "      <td>1</td>\n",
       "      <td>0</td>\n",
       "      <td>0</td>\n",
       "      <td>0</td>\n",
       "      <td>0</td>\n",
       "      <td>1</td>\n",
       "      <td>0</td>\n",
       "    </tr>\n",
       "    <tr>\n",
       "      <th>4239</th>\n",
       "      <td>0.184211</td>\n",
       "      <td>0.60</td>\n",
       "      <td>0.330357</td>\n",
       "      <td>0.563034</td>\n",
       "      <td>0.265182</td>\n",
       "      <td>0.658333</td>\n",
       "      <td>0.528846</td>\n",
       "      <td>0</td>\n",
       "      <td>0</td>\n",
       "      <td>0</td>\n",
       "      <td>1</td>\n",
       "      <td>0</td>\n",
       "      <td>1</td>\n",
       "      <td>0</td>\n",
       "      <td>0</td>\n",
       "      <td>0</td>\n",
       "      <td>0</td>\n",
       "    </tr>\n",
       "  </tbody>\n",
       "</table>\n",
       "<p>4240 rows × 17 columns</p>\n",
       "</div>"
      ],
      "text/plain": [
       "           age  cigsPerDay  ...  prevalentHyp_1.0  diabetes_1.0\n",
       "0     0.184211        0.00  ...                 0             0\n",
       "1     0.368421        0.00  ...                 0             0\n",
       "2     0.421053        0.40  ...                 0             0\n",
       "3     0.763158        0.60  ...                 1             0\n",
       "4     0.368421        0.46  ...                 0             0\n",
       "...        ...         ...  ...               ...           ...\n",
       "4235  0.421053        0.40  ...                 0             0\n",
       "4236  0.315789        0.30  ...                 0             0\n",
       "4237  0.526316        0.00  ...                 0             0\n",
       "4238  0.210526        0.00  ...                 1             0\n",
       "4239  0.184211        0.60  ...                 0             0\n",
       "\n",
       "[4240 rows x 17 columns]"
      ]
     },
     "execution_count": 7,
     "metadata": {
      "tags": []
     },
     "output_type": "execute_result"
    }
   ],
   "source": [
    "df.shape\n",
    "df"
   ]
  },
  {
   "cell_type": "markdown",
   "metadata": {
    "id": "-qccuLkvTwJY"
   },
   "source": [
    "# New Section"
   ]
  },
  {
   "cell_type": "code",
   "execution_count": 8,
   "metadata": {
    "executionInfo": {
     "elapsed": 63,
     "status": "ok",
     "timestamp": 1625990614004,
     "user": {
      "displayName": "sreevasan ps",
      "photoUrl": "",
      "userId": "01521644933237623332"
     },
     "user_tz": -330
    },
    "id": "iP16Su8lIzXi"
   },
   "outputs": [],
   "source": [
    "# Copy all the predictor variables into X dataframe\n",
    "X = df.drop('Heart-Att', axis=1)\n",
    "\n",
    "# Copy target into the y dataframe.  \n",
    "y = df['Heart-Att']"
   ]
  },
  {
   "cell_type": "code",
   "execution_count": 9,
   "metadata": {
    "executionInfo": {
     "elapsed": 63,
     "status": "ok",
     "timestamp": 1625990614005,
     "user": {
      "displayName": "sreevasan ps",
      "photoUrl": "",
      "userId": "01521644933237623332"
     },
     "user_tz": -330
    },
    "id": "FnYFPGb2JKKT"
   },
   "outputs": [],
   "source": [
    "# Split X and y into training and test set in 75:25 ratio\n",
    "from sklearn.model_selection import train_test_split\n",
    "X_train, X_test, y_train, y_test = train_test_split(X, y, test_size=0.25 , random_state=1)"
   ]
  },
  {
   "cell_type": "markdown",
   "metadata": {
    "id": "7YkVMoRfbX4I"
   },
   "source": [
    "### **Naive bayes with original sample**"
   ]
  },
  {
   "cell_type": "code",
   "execution_count": 10,
   "metadata": {
    "executionInfo": {
     "elapsed": 64,
     "status": "ok",
     "timestamp": 1625990614006,
     "user": {
      "displayName": "sreevasan ps",
      "photoUrl": "",
      "userId": "01521644933237623332"
     },
     "user_tz": -330
    },
    "id": "UWzDOtRFJQ-W"
   },
   "outputs": [],
   "source": [
    "from sklearn.naive_bayes import GaussianNB\n",
    "from sklearn import metrics"
   ]
  },
  {
   "cell_type": "code",
   "execution_count": 10,
   "metadata": {
    "executionInfo": {
     "elapsed": 64,
     "status": "ok",
     "timestamp": 1625990614008,
     "user": {
      "displayName": "sreevasan ps",
      "photoUrl": "",
      "userId": "01521644933237623332"
     },
     "user_tz": -330
    },
    "id": "9iG-3MOH0s1n"
   },
   "outputs": [],
   "source": []
  },
  {
   "cell_type": "code",
   "execution_count": 11,
   "metadata": {
    "colab": {
     "base_uri": "https://localhost:8080/"
    },
    "executionInfo": {
     "elapsed": 64,
     "status": "ok",
     "timestamp": 1625990614009,
     "user": {
      "displayName": "sreevasan ps",
      "photoUrl": "",
      "userId": "01521644933237623332"
     },
     "user_tz": -330
    },
    "id": "cU9ttUKHJWiU",
    "outputId": "ea222216-9ba5-43dd-8bb3-b3fd48e80dea"
   },
   "outputs": [
    {
     "data": {
      "text/plain": [
       "GaussianNB(priors=None, var_smoothing=1e-09)"
      ]
     },
     "execution_count": 11,
     "metadata": {
      "tags": []
     },
     "output_type": "execute_result"
    }
   ],
   "source": [
    "NB_model = GaussianNB()\n",
    "NB_model.fit(X_train, y_train)"
   ]
  },
  {
   "cell_type": "code",
   "execution_count": 12,
   "metadata": {
    "colab": {
     "base_uri": "https://localhost:8080/"
    },
    "executionInfo": {
     "elapsed": 61,
     "status": "ok",
     "timestamp": 1625990614010,
     "user": {
      "displayName": "sreevasan ps",
      "photoUrl": "",
      "userId": "01521644933237623332"
     },
     "user_tz": -330
    },
    "id": "zWY2xrRvJZxq",
    "outputId": "f2ef2ddb-35a9-4df8-f350-f2a642b5b8ef"
   },
   "outputs": [
    {
     "name": "stdout",
     "output_type": "stream",
     "text": [
      "0.8317610062893082\n",
      "[[2571  127]\n",
      " [ 408   74]]\n",
      "              precision    recall  f1-score   support\n",
      "\n",
      "           0       0.86      0.95      0.91      2698\n",
      "           1       0.37      0.15      0.22       482\n",
      "\n",
      "    accuracy                           0.83      3180\n",
      "   macro avg       0.62      0.55      0.56      3180\n",
      "weighted avg       0.79      0.83      0.80      3180\n",
      "\n"
     ]
    }
   ],
   "source": [
    "## Performance Matrix on train data set\n",
    "y_train_predict = NB_model.predict(X_train)\n",
    "model_score = NB_model.score(X_train, y_train)\n",
    "print(model_score)\n",
    "print(metrics.confusion_matrix(y_train, y_train_predict))\n",
    "print(metrics.classification_report(y_train, y_train_predict))"
   ]
  },
  {
   "cell_type": "code",
   "execution_count": 13,
   "metadata": {
    "colab": {
     "base_uri": "https://localhost:8080/"
    },
    "executionInfo": {
     "elapsed": 58,
     "status": "ok",
     "timestamp": 1625990614010,
     "user": {
      "displayName": "sreevasan ps",
      "photoUrl": "",
      "userId": "01521644933237623332"
     },
     "user_tz": -330
    },
    "id": "yTPKDnKhJdz9",
    "outputId": "65342385-5f0c-4874-c552-56883c2b794a"
   },
   "outputs": [
    {
     "name": "stdout",
     "output_type": "stream",
     "text": [
      "0.8311320754716981\n",
      "[[853  45]\n",
      " [134  28]]\n",
      "              precision    recall  f1-score   support\n",
      "\n",
      "           0       0.86      0.95      0.91       898\n",
      "           1       0.38      0.17      0.24       162\n",
      "\n",
      "    accuracy                           0.83      1060\n",
      "   macro avg       0.62      0.56      0.57      1060\n",
      "weighted avg       0.79      0.83      0.80      1060\n",
      "\n"
     ]
    }
   ],
   "source": [
    "## Performance Matrix on test data set\n",
    "y_test_predict = NB_model.predict(X_test)\n",
    "model_score = NB_model.score(X_test, y_test)\n",
    "print(model_score)\n",
    "print(metrics.confusion_matrix(y_test, y_test_predict))\n",
    "print(metrics.classification_report(y_test, y_test_predict))"
   ]
  },
  {
   "cell_type": "code",
   "execution_count": 13,
   "metadata": {
    "executionInfo": {
     "elapsed": 56,
     "status": "ok",
     "timestamp": 1625990614010,
     "user": {
      "displayName": "sreevasan ps",
      "photoUrl": "",
      "userId": "01521644933237623332"
     },
     "user_tz": -330
    },
    "id": "gv3w3bW9UO8Z"
   },
   "outputs": [],
   "source": []
  },
  {
   "cell_type": "code",
   "execution_count": 13,
   "metadata": {
    "executionInfo": {
     "elapsed": 56,
     "status": "ok",
     "timestamp": 1625990614011,
     "user": {
      "displayName": "sreevasan ps",
      "photoUrl": "",
      "userId": "01521644933237623332"
     },
     "user_tz": -330
    },
    "id": "4F7iKSJxM19D"
   },
   "outputs": [],
   "source": []
  },
  {
   "cell_type": "markdown",
   "metadata": {
    "id": "hEo04JCnaCEC"
   },
   "source": [
    "# **Logistic regression with original sample**"
   ]
  },
  {
   "cell_type": "code",
   "execution_count": 14,
   "metadata": {
    "executionInfo": {
     "elapsed": 57,
     "status": "ok",
     "timestamp": 1625990614012,
     "user": {
      "displayName": "sreevasan ps",
      "photoUrl": "",
      "userId": "01521644933237623332"
     },
     "user_tz": -330
    },
    "id": "9AdRq4zVZN2h"
   },
   "outputs": [],
   "source": [
    "from sklearn.linear_model import LogisticRegression"
   ]
  },
  {
   "cell_type": "code",
   "execution_count": 15,
   "metadata": {
    "colab": {
     "base_uri": "https://localhost:8080/"
    },
    "executionInfo": {
     "elapsed": 57,
     "status": "ok",
     "timestamp": 1625990614012,
     "user": {
      "displayName": "sreevasan ps",
      "photoUrl": "",
      "userId": "01521644933237623332"
     },
     "user_tz": -330
    },
    "id": "77-mDVg_UQe_",
    "outputId": "141a71cd-0d17-44ac-8ef0-53847d47f966"
   },
   "outputs": [
    {
     "data": {
      "text/plain": [
       "LogisticRegression(C=1.0, class_weight='balanced', dual=False,\n",
       "                   fit_intercept=True, intercept_scaling=1, l1_ratio=None,\n",
       "                   max_iter=100, multi_class='auto', n_jobs=None, penalty='l2',\n",
       "                   random_state=None, solver='lbfgs', tol=0.0001, verbose=0,\n",
       "                   warm_start=False)"
      ]
     },
     "execution_count": 15,
     "metadata": {
      "tags": []
     },
     "output_type": "execute_result"
    }
   ],
   "source": [
    "logreg= LogisticRegression()\n",
    "#logreg= LogisticRegression(class_weight='balanced')\n",
    "logreg.fit(X_train,y_train)\n"
   ]
  },
  {
   "cell_type": "code",
   "execution_count": 15,
   "metadata": {
    "executionInfo": {
     "elapsed": 50,
     "status": "ok",
     "timestamp": 1625990614013,
     "user": {
      "displayName": "sreevasan ps",
      "photoUrl": "",
      "userId": "01521644933237623332"
     },
     "user_tz": -330
    },
    "id": "M-Bau5u35jSs"
   },
   "outputs": [],
   "source": []
  },
  {
   "cell_type": "code",
   "execution_count": 16,
   "metadata": {
    "colab": {
     "base_uri": "https://localhost:8080/"
    },
    "executionInfo": {
     "elapsed": 50,
     "status": "ok",
     "timestamp": 1625990614013,
     "user": {
      "displayName": "sreevasan ps",
      "photoUrl": "",
      "userId": "01521644933237623332"
     },
     "user_tz": -330
    },
    "id": "mg_soJWYUzAQ",
    "outputId": "839ca947-ccc0-4d32-e69c-e4c9c3be985f"
   },
   "outputs": [
    {
     "name": "stdout",
     "output_type": "stream",
     "text": [
      "[[1764  934]\n",
      " [ 151  331]]\n",
      "              precision    recall  f1-score   support\n",
      "\n",
      "           0       0.92      0.65      0.76      2698\n",
      "           1       0.26      0.69      0.38       482\n",
      "\n",
      "    accuracy                           0.66      3180\n",
      "   macro avg       0.59      0.67      0.57      3180\n",
      "weighted avg       0.82      0.66      0.71      3180\n",
      "\n"
     ]
    }
   ],
   "source": [
    "predict_lg_train= logreg.predict(X_train)\n",
    "print(metrics.confusion_matrix(y_train, predict_lg_train))\n",
    "print(metrics.classification_report(y_train ,predict_lg_train))"
   ]
  },
  {
   "cell_type": "code",
   "execution_count": 17,
   "metadata": {
    "colab": {
     "base_uri": "https://localhost:8080/"
    },
    "executionInfo": {
     "elapsed": 43,
     "status": "ok",
     "timestamp": 1625990614014,
     "user": {
      "displayName": "sreevasan ps",
      "photoUrl": "",
      "userId": "01521644933237623332"
     },
     "user_tz": -330
    },
    "id": "74NUUKB7UXHH",
    "outputId": "6682e05a-8b7d-49e7-b2b8-0df0faa9c282"
   },
   "outputs": [
    {
     "name": "stdout",
     "output_type": "stream",
     "text": [
      "[[597 301]\n",
      " [ 51 111]]\n",
      "              precision    recall  f1-score   support\n",
      "\n",
      "           0       0.92      0.66      0.77       898\n",
      "           1       0.27      0.69      0.39       162\n",
      "\n",
      "    accuracy                           0.67      1060\n",
      "   macro avg       0.60      0.67      0.58      1060\n",
      "weighted avg       0.82      0.67      0.71      1060\n",
      "\n"
     ]
    }
   ],
   "source": [
    "predict_lg_test= logreg.predict(X_test)\n",
    "print(metrics.confusion_matrix(y_test, predict_lg_test))\n",
    "print(metrics.classification_report(y_test ,predict_lg_test))"
   ]
  },
  {
   "cell_type": "code",
   "execution_count": 18,
   "metadata": {
    "colab": {
     "base_uri": "https://localhost:8080/"
    },
    "executionInfo": {
     "elapsed": 39,
     "status": "ok",
     "timestamp": 1625990614014,
     "user": {
      "displayName": "sreevasan ps",
      "photoUrl": "",
      "userId": "01521644933237623332"
     },
     "user_tz": -330
    },
    "id": "RybDjz2bV7Op",
    "outputId": "695f834c-8e94-4e02-fd38-85fbb4778032"
   },
   "outputs": [
    {
     "data": {
      "text/plain": [
       "0.6540880503144655"
      ]
     },
     "execution_count": 18,
     "metadata": {
      "tags": []
     },
     "output_type": "execute_result"
    }
   ],
   "source": [
    "from sklearn.model_selection import cross_val_score\n",
    "scores_log = cross_val_score(logreg, X_train, y_train, cv=10).mean()\n",
    "scores_log"
   ]
  },
  {
   "cell_type": "code",
   "execution_count": 18,
   "metadata": {
    "executionInfo": {
     "elapsed": 37,
     "status": "ok",
     "timestamp": 1625990614015,
     "user": {
      "displayName": "sreevasan ps",
      "photoUrl": "",
      "userId": "01521644933237623332"
     },
     "user_tz": -330
    },
    "id": "FLOSH1uncawo"
   },
   "outputs": [],
   "source": []
  },
  {
   "cell_type": "markdown",
   "metadata": {
    "executionInfo": {
     "elapsed": 71,
     "status": "ok",
     "timestamp": 1625990615554,
     "user": {
      "displayName": "sreevasan ps",
      "photoUrl": "",
      "userId": "01521644933237623332"
     },
     "user_tz": -330
    },
    "id": "AImJWM19fK9G"
   },
   "source": [
    "# XGB with orinal sample"
   ]
  },
  {
   "cell_type": "code",
   "execution_count": 31,
   "metadata": {
    "colab": {
     "base_uri": "https://localhost:8080/"
    },
    "executionInfo": {
     "elapsed": 74,
     "status": "ok",
     "timestamp": 1625990615557,
     "user": {
      "displayName": "sreevasan ps",
      "photoUrl": "",
      "userId": "01521644933237623332"
     },
     "user_tz": -330
    },
    "id": "Ql_eqGH447F3",
    "outputId": "c0b23283-4fba-4439-c07e-7e0a19e9b373"
   },
   "outputs": [
    {
     "data": {
      "text/plain": [
       "5.597510373443983"
      ]
     },
     "execution_count": 31,
     "metadata": {
      "tags": []
     },
     "output_type": "execute_result"
    }
   ],
   "source": [
    "y_train.value_counts()\n",
    "2698/482\n"
   ]
  },
  {
   "cell_type": "code",
   "execution_count": null,
   "metadata": {},
   "outputs": [],
   "source": []
  },
  {
   "cell_type": "markdown",
   "metadata": {
    "id": "gG3LgoZu47iO"
   },
   "source": [
    "### **XGB with original sample**"
   ]
  },
  {
   "cell_type": "code",
   "execution_count": 32,
   "metadata": {
    "colab": {
     "base_uri": "https://localhost:8080/"
    },
    "executionInfo": {
     "elapsed": 73,
     "status": "ok",
     "timestamp": 1625990615559,
     "user": {
      "displayName": "sreevasan ps",
      "photoUrl": "",
      "userId": "01521644933237623332"
     },
     "user_tz": -330
    },
    "id": "R4veP-SX47iP",
    "outputId": "5074c7e8-f1c9-41a6-e4db-caf7c0088fdd"
   },
   "outputs": [
    {
     "data": {
      "text/plain": [
       "XGBClassifier(base_score=0.5, booster='gbtree', colsample_bylevel=1,\n",
       "              colsample_bynode=1, colsample_bytree=0.7, gamma=3,\n",
       "              learning_rate=0.01, max_delta_step=0, max_depth=4,\n",
       "              min_child_weight=10, missing=None, n_estimators=100, n_jobs=1,\n",
       "              nthread=None, objective='binary:logistic', random_state=0,\n",
       "              reg_alpha=0, reg_lambda=1, scale_pos_weight=5.59, seed=None,\n",
       "              silent=None, subsample=0.8, verbosity=1)"
      ]
     },
     "execution_count": 32,
     "metadata": {
      "tags": []
     },
     "output_type": "execute_result"
    }
   ],
   "source": [
    "\n",
    "# fit model no training data\n",
    "xg = xgb.XGBClassifier(learning_rate=0.01,n_estimators=100,max_depth=4, gamma=3, scale_pos_weight=5.59, subsample=.8, colsample_bytree=.7, min_child_weight=10)\n",
    "xg.fit(X_train, y_train)\n"
   ]
  },
  {
   "cell_type": "code",
   "execution_count": 44,
   "metadata": {
    "colab": {
     "base_uri": "https://localhost:8080/"
    },
    "executionInfo": {
     "elapsed": 2,
     "status": "ok",
     "timestamp": 1625990630899,
     "user": {
      "displayName": "sreevasan ps",
      "photoUrl": "",
      "userId": "01521644933237623332"
     },
     "user_tz": -330
    },
    "id": "aKt9ihng47iQ",
    "outputId": "b5090201-37d8-4c34-963c-ac4b81785f56"
   },
   "outputs": [
    {
     "name": "stdout",
     "output_type": "stream",
     "text": [
      "0.7015723270440252\n",
      "[[1878  820]\n",
      " [ 129  353]]\n",
      "              precision    recall  f1-score   support\n",
      "\n",
      "           0       0.94      0.70      0.80      2698\n",
      "           1       0.30      0.73      0.43       482\n",
      "\n",
      "    accuracy                           0.70      3180\n",
      "   macro avg       0.62      0.71      0.61      3180\n",
      "weighted avg       0.84      0.70      0.74      3180\n",
      "\n",
      "0.6764150943396227\n",
      "[[609 289]\n",
      " [ 54 108]]\n",
      "              precision    recall  f1-score   support\n",
      "\n",
      "           0       0.92      0.68      0.78       898\n",
      "           1       0.27      0.67      0.39       162\n",
      "\n",
      "    accuracy                           0.68      1060\n",
      "   macro avg       0.60      0.67      0.58      1060\n",
      "weighted avg       0.82      0.68      0.72      1060\n",
      "\n"
     ]
    }
   ],
   "source": [
    "y_train_predict1 = xg.predict(X_train)\n",
    "model_score1 = xg.score(X_train, y_train)\n",
    "print(model_score1)\n",
    "print(metrics.confusion_matrix(y_train, y_train_predict1))\n",
    "print(metrics.classification_report(y_train, y_train_predict1))\n",
    "1## Performance Matrix on test data set\n",
    "y_test_predict2 = xg.predict(X_test)\n",
    "model_score2 = xg.score(X_test, y_test)\n",
    "print(model_score2)\n",
    "print(metrics.confusion_matrix(y_test, y_test_predict2))\n",
    "print(metrics.classification_report(y_test, y_test_predict2))"
   ]
  },
  {
   "cell_type": "code",
   "execution_count": 43,
   "metadata": {
    "executionInfo": {
     "elapsed": 14,
     "status": "ok",
     "timestamp": 1625990620383,
     "user": {
      "displayName": "sreevasan ps",
      "photoUrl": "",
      "userId": "01521644933237623332"
     },
     "user_tz": -330
    },
    "id": "dGiA1xwL43_8"
   },
   "outputs": [],
   "source": []
  }
 ],
 "metadata": {
  "colab": {
   "authorship_tag": "ABX9TyM3h9ALQh9lTra1XMoHueuf",
   "collapsed_sections": [],
   "mount_file_id": "1twv4ZuQkGg1oLvB-n-CY66yO4yvJNa5A",
   "name": "xgb.ipynb",
   "provenance": []
  },
  "kernelspec": {
   "display_name": "Python 3",
   "language": "python",
   "name": "python3"
  },
  "language_info": {
   "codemirror_mode": {
    "name": "ipython",
    "version": 3
   },
   "file_extension": ".py",
   "mimetype": "text/x-python",
   "name": "python",
   "nbconvert_exporter": "python",
   "pygments_lexer": "ipython3",
   "version": "3.8.3"
  }
 },
 "nbformat": 4,
 "nbformat_minor": 1
}
